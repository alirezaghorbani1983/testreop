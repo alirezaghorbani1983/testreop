{
 "cells": [
  {
   "cell_type": "code",
   "execution_count": 1,
   "id": "d21cccc8",
   "metadata": {},
   "outputs": [
    {
     "name": "stdout",
     "output_type": "stream",
     "text": [
      "Hello, Python!\n"
     ]
    }
   ],
   "source": [
    "print('Hello, Python!')"
   ]
  },
  {
   "cell_type": "code",
   "execution_count": 2,
   "id": "8d3dc808",
   "metadata": {},
   "outputs": [
    {
     "name": "stdout",
     "output_type": "stream",
     "text": [
      "5\n"
     ]
    }
   ],
   "source": [
    "print(2+3)"
   ]
  },
  {
   "cell_type": "code",
   "execution_count": 3,
   "id": "5ef6822a",
   "metadata": {},
   "outputs": [
    {
     "name": "stdout",
     "output_type": "stream",
     "text": [
      "8.75\n"
     ]
    }
   ],
   "source": [
    "print(2.5*3.5)"
   ]
  },
  {
   "cell_type": "markdown",
   "id": "aaf7c3a6",
   "metadata": {},
   "source": [
    "## new text"
   ]
  },
  {
   "cell_type": "markdown",
   "id": "7cdd2e31",
   "metadata": {},
   "source": [
    "# describe how to work with jupiter notebook"
   ]
  },
  {
   "cell_type": "markdown",
   "id": "eabf6de4",
   "metadata": {},
   "source": [
    "# how to split cell"
   ]
  },
  {
   "cell_type": "code",
   "execution_count": null,
   "id": "381ec8c0",
   "metadata": {},
   "outputs": [],
   "source": [
    "1+1\n",
    "2*2"
   ]
  },
  {
   "cell_type": "code",
   "execution_count": null,
   "id": "10e4040d",
   "metadata": {},
   "outputs": [],
   "source": []
  }
 ],
 "metadata": {
  "kernelspec": {
   "display_name": "Python 3 (ipykernel)",
   "language": "python",
   "name": "python3"
  },
  "language_info": {
   "codemirror_mode": {
    "name": "ipython",
    "version": 3
   },
   "file_extension": ".py",
   "mimetype": "text/x-python",
   "name": "python",
   "nbconvert_exporter": "python",
   "pygments_lexer": "ipython3",
   "version": "3.10.9"
  }
 },
 "nbformat": 4,
 "nbformat_minor": 5
}
